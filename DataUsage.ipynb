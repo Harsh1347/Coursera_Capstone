{
 "cells": [
  {
   "cell_type": "markdown",
   "metadata": {},
   "source": [
    "# IBM Data Science Professional Specialization - Coursera"
   ]
  },
  {
   "cell_type": "markdown",
   "metadata": {},
   "source": [
    "## Reason For Expensive Neighbourhood in Pune"
   ]
  },
  {
   "cell_type": "markdown",
   "metadata": {},
   "source": [
    "#### - Harsh Gupta"
   ]
  },
  {
   "cell_type": "markdown",
   "metadata": {},
   "source": [
    "# 1.Description of The Project"
   ]
  },
  {
   "cell_type": "markdown",
   "metadata": {},
   "source": [
    "## Introduction"
   ]
  },
  {
   "cell_type": "markdown",
   "metadata": {},
   "source": [
    "Pune is the second largest city in the Indian state of Maharashtra, after Mumbai. It is the ninth most populous city in the country with an estimated population of 3.13 million.Along with its extended city limits Pimpri Chinchwad and the three cantonment towns of Pune, Khadki and Dehu Road, Pune forms the urban core of the eponymous Pune Metropolitan Region (PMR).According to the 2011 census, the urban area has a combined population of 5.05 million while the population of the metropolitan region is estimated at 7.27 million.The city is considered to be the cultural capital of Maharashtra.It is also known as the \"Oxford of the East\" due to the presence of several well-known educational institutions.The city has emerged as a major educational hub in recent decades, with nearly half of the total international students in the country studying in Pune.Research institutes of information technology, education, management and training attract students and professionals from India and overseas. Several colleges in Pune have student-exchange programmes with colleges in Europe.In the last decade, the city has also seen an IT boom and many companies have their officies set up here.For this reason there has been in increase in population and hence the housing property has also increased drastically. There are some particular Neighbourhood which have their prices higher than other.\n",
    "\n"
   ]
  },
  {
   "cell_type": "markdown",
   "metadata": {},
   "source": [
    "### Question to be solved"
   ]
  },
  {
   "cell_type": "markdown",
   "metadata": {},
   "source": [
    "In this project we will try to find the reason and draw conclusion as to why those neighbourhood have higher prices,what are the reason influencing the rates of the flats and houses.\n",
    "\n",
    "The results from this project will help the house buyers to see what price they can expect for a particular neighbourhood.\n",
    "Also it will help the house buyer to look for a neighbourhood with particular requirements.\n"
   ]
  },
  {
   "cell_type": "markdown",
   "metadata": {},
   "source": [
    "# 2.Description of Data"
   ]
  },
  {
   "cell_type": "markdown",
   "metadata": {},
   "source": [
    "The data that will be used for this project will be from following sources:\n",
    "<ul>\n",
    "    <li> Names of the Neighbourhood https://en.wikipedia.org/wiki/List_of_neighbourhoods_in_Pune\n",
    "    <li> The venues in each neighborhood. (FourSquare API) \n",
    "    <li> The average price of each neighbourhood. https://www.99acres.com/property-rates-and-price-trends-in-pune    \n",
    "\n",
    "</ul>\n",
    "\n",
    "Other supporting data :\n",
    "<ul>\n",
    "    <li> Coordinates (Geocoder Python)\n",
    "    <li> GeoJson (http://data.beta.nyc)  \n",
    "</ul>\n",
    "\n",
    "*The price per sqt feet will be used as it can then be used to estimate the price of flat required by the user.Data for Cost of renting will not be used* "
   ]
  },
  {
   "cell_type": "markdown",
   "metadata": {},
   "source": [
    "## Data Collection and using it"
   ]
  },
  {
   "cell_type": "markdown",
   "metadata": {},
   "source": [
    "<ul>\n",
    "    <li> First the neighbourhood will be scraped from wikipedia\n",
    "    <li> Then from 99acers we fill scrape the data of price\n",
    "    <li> For each neighborhood, call Geocoder Python to get its coordinate.</li>\n",
    "    <li> For each neighborhood's coordinate, call FourSquare API to get the surrounding venues.</li>\n",
    "</ul>\n",
    "\n",
    "The data obtained from this process will be converted into a 2D DataFrame and then will used to solve the problem specified using Machine Learning,Data Sciece Knowledge"
   ]
  },
  {
   "cell_type": "markdown",
   "metadata": {},
   "source": [
    "The DataFrame will contain the Neighbourhood, cost of land per sqaure foot, top 10 places around it.\n",
    "\n"
   ]
  },
  {
   "cell_type": "code",
   "execution_count": null,
   "metadata": {},
   "outputs": [],
   "source": []
  }
 ],
 "metadata": {
  "kernelspec": {
   "display_name": "Python 3",
   "language": "python",
   "name": "python3"
  },
  "language_info": {
   "codemirror_mode": {
    "name": "ipython",
    "version": 3
   },
   "file_extension": ".py",
   "mimetype": "text/x-python",
   "name": "python",
   "nbconvert_exporter": "python",
   "pygments_lexer": "ipython3",
   "version": "3.7.0"
  }
 },
 "nbformat": 4,
 "nbformat_minor": 2
}
